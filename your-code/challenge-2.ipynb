{
 "cells": [
  {
   "cell_type": "code",
   "execution_count": 1,
   "metadata": {},
   "outputs": [
    {
     "data": {
      "text/plain": [
       "'U'"
      ]
     },
     "execution_count": 1,
     "metadata": {},
     "output_type": "execute_result"
    }
   ],
   "source": [
    "import string\n",
    "import random\n",
    "import string\n"
   ]
  },
  {
   "cell_type": "code",
   "execution_count": 16,
   "metadata": {},
   "outputs": [
    {
     "name": "stdin",
     "output_type": "stream",
     "text": [
      "Enter minimum string length:  2\n",
      "Enter maximum string length:  3\n",
      "How many random strings to generate?  4\n"
     ]
    }
   ],
   "source": [
    "a = input('Enter minimum string length: ')\n",
    "b = input('Enter maximum string length: ')\n",
    "n = input('How many random strings to generate? ')"
   ]
  },
  {
   "cell_type": "code",
   "execution_count": 42,
   "metadata": {},
   "outputs": [],
   "source": [
    "def random_character():\n",
    "    return random.choice(list(string.ascii_lowecase + string.digits))"
   ]
  },
  {
   "cell_type": "code",
   "execution_count": null,
   "metadata": {},
   "outputs": [],
   "source": [
    "def RandomStringGenerator():\n",
    "    s = ''\n",
    "    while p<l:\n",
    "        s += random.choice(dict1)\n",
    "        p += 1\n",
    "    return s"
   ]
  },
  {
   "cell_type": "code",
   "execution_count": 56,
   "metadata": {},
   "outputs": [],
   "source": [
    "def RandomStringGenerator(a,b,n):\n",
    "    length = random.randint(a,b)\n",
    "    letters_and_numbers = list(string.ascii_lowercase + string.digits)\n",
    "    r = []\n",
    "    while len(r) <= n:\n",
    "        r.append(list([(random.choice(letters_and_numbers) for i in range(length))]))\n",
    "    return r"
   ]
  },
  {
   "cell_type": "code",
   "execution_count": 57,
   "metadata": {},
   "outputs": [
    {
     "data": {
      "text/plain": [
       "[[<generator object RandomStringGenerator.<locals>.<genexpr> at 0x7fe248544660>],\n",
       " [<generator object RandomStringGenerator.<locals>.<genexpr> at 0x7fe2485447b0>],\n",
       " [<generator object RandomStringGenerator.<locals>.<genexpr> at 0x7fe248544820>],\n",
       " [<generator object RandomStringGenerator.<locals>.<genexpr> at 0x7fe248544890>],\n",
       " [<generator object RandomStringGenerator.<locals>.<genexpr> at 0x7fe248544900>],\n",
       " [<generator object RandomStringGenerator.<locals>.<genexpr> at 0x7fe248544970>]]"
      ]
     },
     "execution_count": 57,
     "metadata": {},
     "output_type": "execute_result"
    }
   ],
   "source": [
    "RandomStringGenerator(2,4,5)"
   ]
  },
  {
   "cell_type": "code",
   "execution_count": 67,
   "metadata": {},
   "outputs": [],
   "source": [
    "def RandomStringGenerator(a,b,n):\n",
    "    length = random.randint(a,b)\n",
    "    letters_and_numbers = list(string.ascii_lowercase + string.digits)\n",
    "    r = []\n",
    "    while len(r) <= n:\n",
    "        r.append(''.join([random.choice(letters_and_numbers) for i in range(length)]))\n",
    "    return r\n",
    "    \n",
    "        \n",
    "        \n"
   ]
  },
  {
   "cell_type": "code",
   "execution_count": 68,
   "metadata": {},
   "outputs": [
    {
     "data": {
      "text/plain": [
       "['m3nl', 'kfnj', '4gr5', '4nsa', 'zrtw']"
      ]
     },
     "execution_count": 68,
     "metadata": {},
     "output_type": "execute_result"
    }
   ],
   "source": [
    "RandomStringGenerator(4,5,4)"
   ]
  },
  {
   "cell_type": "code",
   "execution_count": 69,
   "metadata": {},
   "outputs": [
    {
     "name": "stdin",
     "output_type": "stream",
     "text": [
      "Enter minimum string length:  3\n",
      "Enter maximum string length:  4\n",
      "How many random strings to generate?  5\n"
     ]
    }
   ],
   "source": [
    "a = int(input('Enter minimum string length: '))\n",
    "b = int(input('Enter maximum string length: '))\n",
    "n = int(input('How many random strings to generate? '))"
   ]
  },
  {
   "cell_type": "code",
   "execution_count": 70,
   "metadata": {},
   "outputs": [
    {
     "data": {
      "text/plain": [
       "['g9r', '74k', '207', 'uc2', 'jzs', '1ki']"
      ]
     },
     "execution_count": 70,
     "metadata": {},
     "output_type": "execute_result"
    }
   ],
   "source": [
    "RandomStringGenerator(a,b,n)"
   ]
  }
 ],
 "metadata": {
  "kernelspec": {
   "display_name": "Python 3",
   "language": "python",
   "name": "python3"
  },
  "language_info": {
   "codemirror_mode": {
    "name": "ipython",
    "version": 3
   },
   "file_extension": ".py",
   "mimetype": "text/x-python",
   "name": "python",
   "nbconvert_exporter": "python",
   "pygments_lexer": "ipython3",
   "version": "3.8.3"
  }
 },
 "nbformat": 4,
 "nbformat_minor": 4
}
