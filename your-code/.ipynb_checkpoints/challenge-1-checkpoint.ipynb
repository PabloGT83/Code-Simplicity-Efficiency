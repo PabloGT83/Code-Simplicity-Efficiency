{
 "cells": [
  {
   "cell_type": "code",
   "execution_count": 33,
   "metadata": {},
   "outputs": [
    {
     "name": "stdout",
     "output_type": "stream",
     "text": [
      "Welcome to this calculator!\n",
      "It can add and subtract whole numbers from zero to five\n"
     ]
    },
    {
     "name": "stdin",
     "output_type": "stream",
     "text": [
      "Please choose your first number (zero to five):  one\n",
      "What do you want to do? plus or minus:  plus\n",
      "Please choose your second number (zero to five):  one\n"
     ]
    }
   ],
   "source": [
    "print('Welcome to this calculator!')\n",
    "print('It can add and subtract whole numbers from zero to five')\n",
    "a = input('Please choose your first number (zero to five): ')\n",
    "b = input('What do you want to do? plus or minus: ')\n",
    "c = input('Please choose your second number (zero to five): ')\n",
    "a1= []\n",
    "c1= []"
   ]
  },
  {
   "cell_type": "code",
   "execution_count": 34,
   "metadata": {},
   "outputs": [],
   "source": [
    "dict_input = {'zero':0, 'one':1, 'two':2, 'three':3, 'four':4, 'five':5}"
   ]
  },
  {
   "cell_type": "code",
   "execution_count": null,
   "metadata": {},
   "outputs": [],
   "source": [
    "f_number = input('Please choose your first number (zero to five): ')\n",
    "operator = input('What do you want to do? plus or minus: ')\n",
    "n_number = input('Please choose your second number (zero to five): ')"
   ]
  },
  {
   "cell_type": "code",
   "execution_count": 85,
   "metadata": {},
   "outputs": [
    {
     "name": "stdout",
     "output_type": "stream",
     "text": [
      "Your result is :four.\n",
      "Thanks for using this calculator, goodbye :)\n"
     ]
    }
   ],
   "source": [
    "def calculator(f_number,operator,n_number):\n",
    "    a=dict_input[f_number]\n",
    "    c=dict_input[n_number]\n",
    "    if operator == 'plus':\n",
    "        result = a + c\n",
    "        for (k,v) in dict_input.items():\n",
    "            if result == v:\n",
    "                return print('Your result is :' + k + '.\\n' + 'Thanks for using this calculator, goodbye :)')\n",
    "                \n",
    "    elif operator == 'minus':\n",
    "        result = a - c\n",
    "        for (k,v) in dict_input.items():\n",
    "            if result == v:\n",
    "                return 'Your result is :' + k\n",
    "    else:\n",
    "        return 'I am not able to answer this question. Check your input.'\n",
    "    \n",
    "calculator('two','plus','two')"
   ]
  },
  {
   "cell_type": "code",
   "execution_count": null,
   "metadata": {},
   "outputs": [],
   "source": []
  }
 ],
 "metadata": {
  "kernelspec": {
   "display_name": "Python 3",
   "language": "python",
   "name": "python3"
  },
  "language_info": {
   "codemirror_mode": {
    "name": "ipython",
    "version": 3
   },
   "file_extension": ".py",
   "mimetype": "text/x-python",
   "name": "python",
   "nbconvert_exporter": "python",
   "pygments_lexer": "ipython3",
   "version": "3.8.3"
  }
 },
 "nbformat": 4,
 "nbformat_minor": 4
}
